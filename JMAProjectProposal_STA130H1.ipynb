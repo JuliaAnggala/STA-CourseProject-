{
 "cells": [
  {
   "cell_type": "markdown",
   "id": "7c18e4ba",
   "metadata": {},
   "source": [
    "### Individual Project Proposal "
   ]
  },
  {
   "cell_type": "markdown",
   "id": "f8bd8936",
   "metadata": {},
   "source": [
    "Project aims to understand the relationship between social connection and wellbeing; gathering input on how people can improve their social life and well being. \n",
    "\n"
   ]
  },
  {
   "cell_type": "code",
   "execution_count": 8,
   "id": "9f4a5a4f",
   "metadata": {},
   "outputs": [
    {
     "name": "stderr",
     "output_type": "stream",
     "text": [
      "/tmp/ipykernel_70/2032415962.py:3: DtypeWarning: Columns (129,408,630,671,689,978,1001,1002,1006,1007,1008,1080,1113,1115,1116,1117,1118,1119,1120,1121,1124,1125,1126,1127,1128,1213,1214,1215,1216,1217,1218,1263,1266,1342,1343,1344,1345,1346,1347,1348,1349,1390,1391,1393,1439,1442,1463,1546,1549,1552,1555,1558,1561) have mixed types. Specify dtype option on import or set low_memory=False.\n",
      "  data = pd.read_csv( \"https://raw.githubusercontent.com/pointOfive/stat130chat130/main/CP/CSCS_data_anon.csv\",\n"
     ]
    },
    {
     "data": {
      "text/plain": [
       "(11431, 1779)"
      ]
     },
     "execution_count": 8,
     "metadata": {},
     "output_type": "execute_result"
    }
   ],
   "source": [
    "import pandas as pd\n",
    "cols = pd.read_csv(\"https://raw.githubusercontent.com/pointOfive/stat130chat130/main/CP/var_names.csv\")\n",
    "data = pd.read_csv( \"https://raw.githubusercontent.com/pointOfive/stat130chat130/main/CP/CSCS_data_anon.csv\",\n",
    "                   na_values=[\"9999\", \"\", \" \", \"Presented but no response\", \"NA\"])\n",
    "empty = (data.isna().sum()==data.shape[0])\n",
    "data = data[empty.index[~empty]] # keep non empty columns only\n",
    "\n",
    "data.shape"
   ]
  },
  {
   "cell_type": "markdown",
   "id": "0d9689bd",
   "metadata": {},
   "source": [
    "### Research Question #1: Is there a difference in social interaction between the canadian indigenous population living on reserves from non-indigenous populations, and how does that correlate to their physical and emotional well being. \n"
   ]
  },
  {
   "cell_type": "code",
   "execution_count": 10,
   "id": "703ad67a",
   "metadata": {},
   "outputs": [
    {
     "data": {
      "text/plain": [
       "DEMO_identity_indigenous\n",
       "Not Selected                                              2806\n",
       "Indigenous peoples (e.g., First Nations, Métis, Inuit)     823\n",
       "Name: count, dtype: int64"
      ]
     },
     "execution_count": 10,
     "metadata": {},
     "output_type": "execute_result"
    }
   ],
   "source": [
    "data.DEMO_identity_indigenous.value_counts()"
   ]
  },
  {
   "cell_type": "code",
   "execution_count": 11,
   "id": "a6ab271a",
   "metadata": {},
   "outputs": [],
   "source": [
    "pd.set_option('display.max_columns', None)"
   ]
  },
  {
   "cell_type": "code",
   "execution_count": null,
   "id": "cceb5122",
   "metadata": {},
   "outputs": [],
   "source": [
    "indigenous_data = data[data['DEMO_identity_indigenous'].notna()]\n",
    "\n",
    "print(indigenous_data.head())"
   ]
  },
  {
   "cell_type": "markdown",
   "id": "31cfe97b",
   "metadata": {},
   "source": [
    "#### variables: "
   ]
  },
  {
   "cell_type": "markdown",
   "id": "29bb2363",
   "metadata": {},
   "source": [
    "The variables examined when answering this question would have to be split into two groups. These two groups would be seperated on those who indicated that they identify as indigenous and those who do not identify as indigenous. We can further narrow down our data by focusing on data based off of the region indicated in a persons answer. This way we would be able to compare data from those living in provinces that have a higher population of indigenous people living on reserves, compared to data from those living in provinces that have a lower population of indigenous people living on reserves. This could help us get a more sound answer to our question, since there is no specific indicator of wether or not the data comes from living on a reserve. Second, once we split up the data on indigenous identity and then region/province we would analyze the statistical data (such as the mean, and quartile percentile of the answers receieved) from a columns that indicates ones emotional and physical health. These columns would be the WELLNESS_self_rated_physical_health and the WELLNESS_self_rated_mental_health. The data could be even further seperated and analyzed by age, since this could analyze traditions/culture and how that has evolved over time. The way to examine these variables could be done with a bar plot, a bar plot is helpful in giving us a comparison between two categorical groups, before looking at the statistical data. Another visualization that would be helpful is box plots, box plots can show us the statiscal data such as the mean value of how each group ranks thir own physical and mental health, or even see the lowest quartile to see in comparison just how low the indigenous population ranks their own wellness in compared to non-indigenous populations. For example, if indigenous identifying individuals do face more discrimination and less social interaction their lowest percentage might be a lot lower than the lowest percentage of non-indigenous populations.   "
   ]
  },
  {
   "cell_type": "markdown",
   "id": "9421706b",
   "metadata": {},
   "source": [
    "#### analysis: "
   ]
  },
  {
   "cell_type": "markdown",
   "id": "0457c037",
   "metadata": {},
   "source": [
    "The method I plan to use to analyze this data is by using box plots and linear regression lines. Box plots will be able to give us a description of the statistics by analyzing the IQR and the median. Seeing the variability/spread of the data will be helpful in showing a comparison of the general ranking of wellness (both mental and physical) across indigenous and non-indigenous identifying peoples in each region. Once we can get a clear comparison between the two we can then perform an analysis to see if there is any correlation between a lower mental/physical wellness and their indigenous identity to each region. To analyze a correlation we would have to look at a linear regression model. The linear regression model by using indicator values. However, in using indicator values we are making an assumption that most people indicating that they are indigneous are living on reserves. "
   ]
  },
  {
   "cell_type": "markdown",
   "id": "b0d15232",
   "metadata": {},
   "source": [
    "#### hypothesis: "
   ]
  },
  {
   "cell_type": "markdown",
   "id": "df27577f",
   "metadata": {},
   "source": [
    "I believe that there is a direct correlation between those living in reserves and the physical and emotional wellness. \n",
    "\n",
    "The answer would be relevant to answering our research question because it would show that there is a difference between the social practices of indigenous and non-indigenous populations and that social practice is directly related to emotional and physical wellness of an individual. "
   ]
  },
  {
   "cell_type": "markdown",
   "id": "45d6a511",
   "metadata": {},
   "source": [
    "### Research Question #2: Do people living alone tend to have a certain type of social acitivty they prefer to participate in?  "
   ]
  },
  {
   "cell_type": "markdown",
   "id": "3adb11e8",
   "metadata": {},
   "source": [
    "#### variables: \n",
    "\n",
    "First to understand what we are analyzing, we actually need to filter out some variables. We want to filter out all data from people who indicated yes under columns such as: \n",
    "\n",
    "GEO_housing_live_with_partner\n",
    "GEO_housing_live_with_children\n",
    "GEO_housing_live_with_grandkids\n",
    "GEO_housing_live_with_parent\n",
    "GEO_housing_live_with_in_laws\n",
    "GEO_housing_live_with_siblings\n",
    "GEO_housing_live_with_roommate\n",
    "GEO_housing_live_with_other\n",
    "GEO_housing_live_with_dogs\n",
    "GEO_housing_live_with_cats\n",
    "GEO_housing_live_with_ferrets\n",
    "GEO_housing_live_with_birds\n",
    "GEO_housing_live_with_fish\n",
    "GEO_housing_live_with_other_pet\n",
    "\n",
    "This will allow us to generally look at who we assume are living alone. I chose to analyze people living alone because the experience of living alone restricts the amount of free time one has, and moving out tends to affect a lot of peoples regular habits. \n",
    "After filtering through this data we can begin to visualize the data of those living alone by using value counts. Value counts will allow us to look at the distribution of the frequency that those who live alone tend to participate in different social activites. \n",
    "\n",
    "We would explore the frequeuncy of those who live alone pop up in these variables: \n",
    "\n",
    "CONNECTION_activities_checked_in_last\n",
    "CONNECTION_activities_phone_last\n",
    "CONNECTION_activities_group_video_chat_last\n",
    "CONNECTION_activities_walk_last\n",
    "CONNECTION_activities_coffee_last\n",
    "CONNECTION_activities_computer_games_last\n",
    "CONNECTION_activities_visited_friends_last\n",
    "CONNECTION_activities_visited_family_last\n",
    "CONNECTION_activities_community_last\n",
    "CONNECTION_activities_helped_last\n",
    "CONNECTION_activities_discussion_group_last\n",
    "CONNECTION_activities_group_exercise_last\n",
    "CONNECTION_activities_church_last\n",
    "CONNECTION_activities_new_friend_last\n",
    "CONNECTION_activities_hug_last\n",
    "CONNECTION_activities_kissed_last\n",
    "CONNECTION_activities_sex_last\n",
    "\n",
    "We can then visualize this data through a bar plot. A bar plot is a good visualization of the frequency that people living alone answer these connection acitivty variables because it shows an intuitive way to understand value counts, ie. it is straightforward \n",
    "\n",
    "However when we analyze the frequency of the answers in certain connection activites we are making assumptions about peoples family/relationship status, as well as their access to technology and nearby coffee shops\n",
    "\n",
    "I chose to analyze CONNECTION_activities columns specifically because almost all of these are daily things that people tend to do more casually on a regular basis, or that certain people believe are part of a healthy everyday life. "
   ]
  },
  {
   "cell_type": "markdown",
   "id": "1e652940",
   "metadata": {},
   "source": [
    "#### analysis\n",
    "\n",
    "One way we can begin to analyze our variables is through bootstrapping and hypothesis testing. Bootstrapping allows us to stimulate a situation in which a whole population is selecting the different types of connection activities they partcipate in. By creating a histogram through bootstrapping/resampling we are able to obtain a distribution of the answers to each connection activity through resampling. By running through each connection activity we can then see if there is more frequency of answers in one variable compared to another variable. Furthermore we can apply hypothesis testing through calculating the p-value in order to see if the frequency we are seeing in one variable compared to another is truly because someone lives alone or if it is by coincidence."
   ]
  },
  {
   "cell_type": "markdown",
   "id": "d7c8d2f3",
   "metadata": {},
   "source": [
    "#### hypothesis\n",
    "There will be a higher frequency of answers in one connection_activity compared to another from people who answered no to living with any other pet or human. \n",
    "\n",
    "The answer to this hypothesis will be relevant in answering out research question because it analyzes if people are more drawn towards a certain type of connection with other people. Since we are looking at data purely from people who are not around others, we can then try to conclude that the more data we have in a certain variable is because more people living alone participate in that type of connection than another. "
   ]
  },
  {
   "cell_type": "markdown",
   "id": "aa669cd1",
   "metadata": {},
   "source": [
    "### Research Question #3: Do those that have to spend more time commuting correlate to how canadians measure how much tiredness they feel from burn-out. "
   ]
  },
  {
   "cell_type": "markdown",
   "id": "08358dd9",
   "metadata": {},
   "source": [
    "#### variables: \n",
    "\n",
    "The variables we will analyze through this question are: GEO_commute_time and WELLNESS_malach_pines_burnout_measure_tired. \n",
    "\n",
    "I chose to explore these varaibles to understand how commuting, and the amount of time it takes out of ones day, related to tiredness, wanting to understand if that can hinder their ability to socially interact with other people. \n",
    "\n",
    "An effective way to analyze these variables is to use a bar plot of each variable. A bar plot an show us which answers were selected the most. Another helpful way to visualize these varaibles is to create a histrogram which will show how many times the certain responses to how tired/burnt out a commuter feels. "
   ]
  },
  {
   "cell_type": "code",
   "execution_count": null,
   "id": "543bd94b",
   "metadata": {},
   "outputs": [],
   "source": [
    "commuting_data = data[data['GEO_commute_time'].notna()]\n",
    "\n",
    "print(commuting_data)"
   ]
  },
  {
   "cell_type": "markdown",
   "id": "54c87736",
   "metadata": {},
   "source": [
    "#### analysis: \n",
    "\n",
    "the following way was researched after reading a suggestion from prof on Piazza: \n",
    "The way to analyze this would be through a multi-classification since the answers to our variables are categorical and not numerical, so making a linear regression line would not suit. The first step to doing this is to make sure we clear out all of the NaN values through .dropna or some other way. Through multi-classification we can turn the string responses into inetgers, numerical values, making them easier to plot. Then we can properly visualize all of this data into a bar plot that shows the linear relationship between the two values to see wether or not they are proportional or not to each other. \n",
    "\n",
    "another way to analyze off of just what was learnt in class: \n",
    "A way to analyze this data could be through making a KDE plot that can show the overlap between the two variables to see if there is any relationship between them. Furthermore, the smoothed curves of the KDE plot can show us distinct peaks or shifts within the data to any distinct characteristics/commuting times that greatly change the result of how tired/burnt out the individual feels. To go about this we would have to clear out the data to make sure it is all known values and then import the necessary libraries to create the graph for us. However, we have to assume that there is enough data for you to make a KDE plot, furthermore a KDE plot will assume that all of our data is discrete and it may not be able to properly store and output the data from the burnout questions "
   ]
  },
  {
   "cell_type": "markdown",
   "id": "9358d7eb",
   "metadata": {},
   "source": [
    "#### hypothesis: \n",
    "The KDE plot will show significnat differences in the responses to how burnt out or tired an individual is across different commuting times \n",
    "\n",
    "This hypothesis is relevant in answering the research question as we need to begin to understand if there is any true difference that commuting makes to tiredness. As well as wether or not the relationship is proportional to each other, ie. as one goes up the other goes up as well. "
   ]
  }
 ],
 "metadata": {
  "kernelspec": {
   "display_name": "Python 3 (ipykernel)",
   "language": "python",
   "name": "python3"
  },
  "language_info": {
   "codemirror_mode": {
    "name": "ipython",
    "version": 3
   },
   "file_extension": ".py",
   "mimetype": "text/x-python",
   "name": "python",
   "nbconvert_exporter": "python",
   "pygments_lexer": "ipython3",
   "version": "3.11.6"
  }
 },
 "nbformat": 4,
 "nbformat_minor": 5
}
